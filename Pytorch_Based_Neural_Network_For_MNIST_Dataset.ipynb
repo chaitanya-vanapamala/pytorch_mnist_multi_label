{
  "nbformat": 4,
  "nbformat_minor": 0,
  "metadata": {
    "colab": {
      "name": "Pytorch Based Neural Network For MNIST Dataset.ipynb",
      "provenance": [],
      "collapsed_sections": []
    },
    "kernelspec": {
      "name": "python3",
      "display_name": "Python 3"
    },
    "language_info": {
      "name": "python"
    },
    "accelerator": "GPU",
    "widgets": {
      "application/vnd.jupyter.widget-state+json": {
        "98fb7ec69511473ea57f5c24295e85e6": {
          "model_module": "@jupyter-widgets/controls",
          "model_name": "HBoxModel",
          "state": {
            "_view_name": "HBoxView",
            "_dom_classes": [],
            "_model_name": "HBoxModel",
            "_view_module": "@jupyter-widgets/controls",
            "_model_module_version": "1.5.0",
            "_view_count": null,
            "_view_module_version": "1.5.0",
            "box_style": "",
            "layout": "IPY_MODEL_2bdd6702c15345fbaa3769fd9411a028",
            "_model_module": "@jupyter-widgets/controls",
            "children": [
              "IPY_MODEL_39dee4e953934c4d9a6a64c8bb2e4755",
              "IPY_MODEL_c4134fcc03e848c0b3d8f9d2c52a212d"
            ]
          }
        },
        "2bdd6702c15345fbaa3769fd9411a028": {
          "model_module": "@jupyter-widgets/base",
          "model_name": "LayoutModel",
          "state": {
            "_view_name": "LayoutView",
            "grid_template_rows": null,
            "right": null,
            "justify_content": null,
            "_view_module": "@jupyter-widgets/base",
            "overflow": null,
            "_model_module_version": "1.2.0",
            "_view_count": null,
            "flex_flow": null,
            "width": null,
            "min_width": null,
            "border": null,
            "align_items": null,
            "bottom": null,
            "_model_module": "@jupyter-widgets/base",
            "top": null,
            "grid_column": null,
            "overflow_y": null,
            "overflow_x": null,
            "grid_auto_flow": null,
            "grid_area": null,
            "grid_template_columns": null,
            "flex": null,
            "_model_name": "LayoutModel",
            "justify_items": null,
            "grid_row": null,
            "max_height": null,
            "align_content": null,
            "visibility": null,
            "align_self": null,
            "height": null,
            "min_height": null,
            "padding": null,
            "grid_auto_rows": null,
            "grid_gap": null,
            "max_width": null,
            "order": null,
            "_view_module_version": "1.2.0",
            "grid_template_areas": null,
            "object_position": null,
            "object_fit": null,
            "grid_auto_columns": null,
            "margin": null,
            "display": null,
            "left": null
          }
        },
        "39dee4e953934c4d9a6a64c8bb2e4755": {
          "model_module": "@jupyter-widgets/controls",
          "model_name": "FloatProgressModel",
          "state": {
            "_view_name": "ProgressView",
            "style": "IPY_MODEL_5b34914b9cf240f39bbbb79514799871",
            "_dom_classes": [],
            "description": "",
            "_model_name": "FloatProgressModel",
            "bar_style": "success",
            "max": 9912422,
            "_view_module": "@jupyter-widgets/controls",
            "_model_module_version": "1.5.0",
            "value": 9912422,
            "_view_count": null,
            "_view_module_version": "1.5.0",
            "orientation": "horizontal",
            "min": 0,
            "description_tooltip": null,
            "_model_module": "@jupyter-widgets/controls",
            "layout": "IPY_MODEL_d6d5637ab4e944e8954782d7fb21b305"
          }
        },
        "c4134fcc03e848c0b3d8f9d2c52a212d": {
          "model_module": "@jupyter-widgets/controls",
          "model_name": "HTMLModel",
          "state": {
            "_view_name": "HTMLView",
            "style": "IPY_MODEL_84ee00f8fd474d5fb84e5a7a58e52be0",
            "_dom_classes": [],
            "description": "",
            "_model_name": "HTMLModel",
            "placeholder": "​",
            "_view_module": "@jupyter-widgets/controls",
            "_model_module_version": "1.5.0",
            "value": " 9913344/? [04:18&lt;00:00, 38323.53it/s]",
            "_view_count": null,
            "_view_module_version": "1.5.0",
            "description_tooltip": null,
            "_model_module": "@jupyter-widgets/controls",
            "layout": "IPY_MODEL_88e5280b62e14cc8b0766336aa7df75f"
          }
        },
        "5b34914b9cf240f39bbbb79514799871": {
          "model_module": "@jupyter-widgets/controls",
          "model_name": "ProgressStyleModel",
          "state": {
            "_view_name": "StyleView",
            "_model_name": "ProgressStyleModel",
            "description_width": "initial",
            "_view_module": "@jupyter-widgets/base",
            "_model_module_version": "1.5.0",
            "_view_count": null,
            "_view_module_version": "1.2.0",
            "bar_color": null,
            "_model_module": "@jupyter-widgets/controls"
          }
        },
        "d6d5637ab4e944e8954782d7fb21b305": {
          "model_module": "@jupyter-widgets/base",
          "model_name": "LayoutModel",
          "state": {
            "_view_name": "LayoutView",
            "grid_template_rows": null,
            "right": null,
            "justify_content": null,
            "_view_module": "@jupyter-widgets/base",
            "overflow": null,
            "_model_module_version": "1.2.0",
            "_view_count": null,
            "flex_flow": null,
            "width": null,
            "min_width": null,
            "border": null,
            "align_items": null,
            "bottom": null,
            "_model_module": "@jupyter-widgets/base",
            "top": null,
            "grid_column": null,
            "overflow_y": null,
            "overflow_x": null,
            "grid_auto_flow": null,
            "grid_area": null,
            "grid_template_columns": null,
            "flex": null,
            "_model_name": "LayoutModel",
            "justify_items": null,
            "grid_row": null,
            "max_height": null,
            "align_content": null,
            "visibility": null,
            "align_self": null,
            "height": null,
            "min_height": null,
            "padding": null,
            "grid_auto_rows": null,
            "grid_gap": null,
            "max_width": null,
            "order": null,
            "_view_module_version": "1.2.0",
            "grid_template_areas": null,
            "object_position": null,
            "object_fit": null,
            "grid_auto_columns": null,
            "margin": null,
            "display": null,
            "left": null
          }
        },
        "84ee00f8fd474d5fb84e5a7a58e52be0": {
          "model_module": "@jupyter-widgets/controls",
          "model_name": "DescriptionStyleModel",
          "state": {
            "_view_name": "StyleView",
            "_model_name": "DescriptionStyleModel",
            "description_width": "",
            "_view_module": "@jupyter-widgets/base",
            "_model_module_version": "1.5.0",
            "_view_count": null,
            "_view_module_version": "1.2.0",
            "_model_module": "@jupyter-widgets/controls"
          }
        },
        "88e5280b62e14cc8b0766336aa7df75f": {
          "model_module": "@jupyter-widgets/base",
          "model_name": "LayoutModel",
          "state": {
            "_view_name": "LayoutView",
            "grid_template_rows": null,
            "right": null,
            "justify_content": null,
            "_view_module": "@jupyter-widgets/base",
            "overflow": null,
            "_model_module_version": "1.2.0",
            "_view_count": null,
            "flex_flow": null,
            "width": null,
            "min_width": null,
            "border": null,
            "align_items": null,
            "bottom": null,
            "_model_module": "@jupyter-widgets/base",
            "top": null,
            "grid_column": null,
            "overflow_y": null,
            "overflow_x": null,
            "grid_auto_flow": null,
            "grid_area": null,
            "grid_template_columns": null,
            "flex": null,
            "_model_name": "LayoutModel",
            "justify_items": null,
            "grid_row": null,
            "max_height": null,
            "align_content": null,
            "visibility": null,
            "align_self": null,
            "height": null,
            "min_height": null,
            "padding": null,
            "grid_auto_rows": null,
            "grid_gap": null,
            "max_width": null,
            "order": null,
            "_view_module_version": "1.2.0",
            "grid_template_areas": null,
            "object_position": null,
            "object_fit": null,
            "grid_auto_columns": null,
            "margin": null,
            "display": null,
            "left": null
          }
        },
        "9665b1bca67e45d8b4d6dc34b5d3b88e": {
          "model_module": "@jupyter-widgets/controls",
          "model_name": "HBoxModel",
          "state": {
            "_view_name": "HBoxView",
            "_dom_classes": [],
            "_model_name": "HBoxModel",
            "_view_module": "@jupyter-widgets/controls",
            "_model_module_version": "1.5.0",
            "_view_count": null,
            "_view_module_version": "1.5.0",
            "box_style": "",
            "layout": "IPY_MODEL_a06f9ad10e544c75a19fff57dee4983c",
            "_model_module": "@jupyter-widgets/controls",
            "children": [
              "IPY_MODEL_d15a0ebf1e8e4bd98fa3308674c87a23",
              "IPY_MODEL_e3287a674772417fa115b36d13e183bc"
            ]
          }
        },
        "a06f9ad10e544c75a19fff57dee4983c": {
          "model_module": "@jupyter-widgets/base",
          "model_name": "LayoutModel",
          "state": {
            "_view_name": "LayoutView",
            "grid_template_rows": null,
            "right": null,
            "justify_content": null,
            "_view_module": "@jupyter-widgets/base",
            "overflow": null,
            "_model_module_version": "1.2.0",
            "_view_count": null,
            "flex_flow": null,
            "width": null,
            "min_width": null,
            "border": null,
            "align_items": null,
            "bottom": null,
            "_model_module": "@jupyter-widgets/base",
            "top": null,
            "grid_column": null,
            "overflow_y": null,
            "overflow_x": null,
            "grid_auto_flow": null,
            "grid_area": null,
            "grid_template_columns": null,
            "flex": null,
            "_model_name": "LayoutModel",
            "justify_items": null,
            "grid_row": null,
            "max_height": null,
            "align_content": null,
            "visibility": null,
            "align_self": null,
            "height": null,
            "min_height": null,
            "padding": null,
            "grid_auto_rows": null,
            "grid_gap": null,
            "max_width": null,
            "order": null,
            "_view_module_version": "1.2.0",
            "grid_template_areas": null,
            "object_position": null,
            "object_fit": null,
            "grid_auto_columns": null,
            "margin": null,
            "display": null,
            "left": null
          }
        },
        "d15a0ebf1e8e4bd98fa3308674c87a23": {
          "model_module": "@jupyter-widgets/controls",
          "model_name": "FloatProgressModel",
          "state": {
            "_view_name": "ProgressView",
            "style": "IPY_MODEL_e5e6a6ac9530416d9b26d269896a722a",
            "_dom_classes": [],
            "description": "",
            "_model_name": "FloatProgressModel",
            "bar_style": "success",
            "max": 28881,
            "_view_module": "@jupyter-widgets/controls",
            "_model_module_version": "1.5.0",
            "value": 28881,
            "_view_count": null,
            "_view_module_version": "1.5.0",
            "orientation": "horizontal",
            "min": 0,
            "description_tooltip": null,
            "_model_module": "@jupyter-widgets/controls",
            "layout": "IPY_MODEL_3d4f221e0c354e629980075d6e0eaf54"
          }
        },
        "e3287a674772417fa115b36d13e183bc": {
          "model_module": "@jupyter-widgets/controls",
          "model_name": "HTMLModel",
          "state": {
            "_view_name": "HTMLView",
            "style": "IPY_MODEL_9eda2c03f6ea4df6840a0afc732da1d0",
            "_dom_classes": [],
            "description": "",
            "_model_name": "HTMLModel",
            "placeholder": "​",
            "_view_module": "@jupyter-widgets/controls",
            "_model_module_version": "1.5.0",
            "value": " 29696/? [00:48&lt;00:00, 613.34it/s]",
            "_view_count": null,
            "_view_module_version": "1.5.0",
            "description_tooltip": null,
            "_model_module": "@jupyter-widgets/controls",
            "layout": "IPY_MODEL_c0eaee9c9c254b4bb99e1931afb42d4f"
          }
        },
        "e5e6a6ac9530416d9b26d269896a722a": {
          "model_module": "@jupyter-widgets/controls",
          "model_name": "ProgressStyleModel",
          "state": {
            "_view_name": "StyleView",
            "_model_name": "ProgressStyleModel",
            "description_width": "initial",
            "_view_module": "@jupyter-widgets/base",
            "_model_module_version": "1.5.0",
            "_view_count": null,
            "_view_module_version": "1.2.0",
            "bar_color": null,
            "_model_module": "@jupyter-widgets/controls"
          }
        },
        "3d4f221e0c354e629980075d6e0eaf54": {
          "model_module": "@jupyter-widgets/base",
          "model_name": "LayoutModel",
          "state": {
            "_view_name": "LayoutView",
            "grid_template_rows": null,
            "right": null,
            "justify_content": null,
            "_view_module": "@jupyter-widgets/base",
            "overflow": null,
            "_model_module_version": "1.2.0",
            "_view_count": null,
            "flex_flow": null,
            "width": null,
            "min_width": null,
            "border": null,
            "align_items": null,
            "bottom": null,
            "_model_module": "@jupyter-widgets/base",
            "top": null,
            "grid_column": null,
            "overflow_y": null,
            "overflow_x": null,
            "grid_auto_flow": null,
            "grid_area": null,
            "grid_template_columns": null,
            "flex": null,
            "_model_name": "LayoutModel",
            "justify_items": null,
            "grid_row": null,
            "max_height": null,
            "align_content": null,
            "visibility": null,
            "align_self": null,
            "height": null,
            "min_height": null,
            "padding": null,
            "grid_auto_rows": null,
            "grid_gap": null,
            "max_width": null,
            "order": null,
            "_view_module_version": "1.2.0",
            "grid_template_areas": null,
            "object_position": null,
            "object_fit": null,
            "grid_auto_columns": null,
            "margin": null,
            "display": null,
            "left": null
          }
        },
        "9eda2c03f6ea4df6840a0afc732da1d0": {
          "model_module": "@jupyter-widgets/controls",
          "model_name": "DescriptionStyleModel",
          "state": {
            "_view_name": "StyleView",
            "_model_name": "DescriptionStyleModel",
            "description_width": "",
            "_view_module": "@jupyter-widgets/base",
            "_model_module_version": "1.5.0",
            "_view_count": null,
            "_view_module_version": "1.2.0",
            "_model_module": "@jupyter-widgets/controls"
          }
        },
        "c0eaee9c9c254b4bb99e1931afb42d4f": {
          "model_module": "@jupyter-widgets/base",
          "model_name": "LayoutModel",
          "state": {
            "_view_name": "LayoutView",
            "grid_template_rows": null,
            "right": null,
            "justify_content": null,
            "_view_module": "@jupyter-widgets/base",
            "overflow": null,
            "_model_module_version": "1.2.0",
            "_view_count": null,
            "flex_flow": null,
            "width": null,
            "min_width": null,
            "border": null,
            "align_items": null,
            "bottom": null,
            "_model_module": "@jupyter-widgets/base",
            "top": null,
            "grid_column": null,
            "overflow_y": null,
            "overflow_x": null,
            "grid_auto_flow": null,
            "grid_area": null,
            "grid_template_columns": null,
            "flex": null,
            "_model_name": "LayoutModel",
            "justify_items": null,
            "grid_row": null,
            "max_height": null,
            "align_content": null,
            "visibility": null,
            "align_self": null,
            "height": null,
            "min_height": null,
            "padding": null,
            "grid_auto_rows": null,
            "grid_gap": null,
            "max_width": null,
            "order": null,
            "_view_module_version": "1.2.0",
            "grid_template_areas": null,
            "object_position": null,
            "object_fit": null,
            "grid_auto_columns": null,
            "margin": null,
            "display": null,
            "left": null
          }
        },
        "7513fe4057b24bdfaafc1cc5c53dfe15": {
          "model_module": "@jupyter-widgets/controls",
          "model_name": "HBoxModel",
          "state": {
            "_view_name": "HBoxView",
            "_dom_classes": [],
            "_model_name": "HBoxModel",
            "_view_module": "@jupyter-widgets/controls",
            "_model_module_version": "1.5.0",
            "_view_count": null,
            "_view_module_version": "1.5.0",
            "box_style": "",
            "layout": "IPY_MODEL_468119aaa6464c999828a8732e74c384",
            "_model_module": "@jupyter-widgets/controls",
            "children": [
              "IPY_MODEL_0cc664494bd5425b9026ad588a4d6dd2",
              "IPY_MODEL_91d5db151e444f9f865eda8ff7a4ffd2"
            ]
          }
        },
        "468119aaa6464c999828a8732e74c384": {
          "model_module": "@jupyter-widgets/base",
          "model_name": "LayoutModel",
          "state": {
            "_view_name": "LayoutView",
            "grid_template_rows": null,
            "right": null,
            "justify_content": null,
            "_view_module": "@jupyter-widgets/base",
            "overflow": null,
            "_model_module_version": "1.2.0",
            "_view_count": null,
            "flex_flow": null,
            "width": null,
            "min_width": null,
            "border": null,
            "align_items": null,
            "bottom": null,
            "_model_module": "@jupyter-widgets/base",
            "top": null,
            "grid_column": null,
            "overflow_y": null,
            "overflow_x": null,
            "grid_auto_flow": null,
            "grid_area": null,
            "grid_template_columns": null,
            "flex": null,
            "_model_name": "LayoutModel",
            "justify_items": null,
            "grid_row": null,
            "max_height": null,
            "align_content": null,
            "visibility": null,
            "align_self": null,
            "height": null,
            "min_height": null,
            "padding": null,
            "grid_auto_rows": null,
            "grid_gap": null,
            "max_width": null,
            "order": null,
            "_view_module_version": "1.2.0",
            "grid_template_areas": null,
            "object_position": null,
            "object_fit": null,
            "grid_auto_columns": null,
            "margin": null,
            "display": null,
            "left": null
          }
        },
        "0cc664494bd5425b9026ad588a4d6dd2": {
          "model_module": "@jupyter-widgets/controls",
          "model_name": "FloatProgressModel",
          "state": {
            "_view_name": "ProgressView",
            "style": "IPY_MODEL_22f895e1012d42cdb38a36eab0332a22",
            "_dom_classes": [],
            "description": "",
            "_model_name": "FloatProgressModel",
            "bar_style": "success",
            "max": 1648877,
            "_view_module": "@jupyter-widgets/controls",
            "_model_module_version": "1.5.0",
            "value": 1648877,
            "_view_count": null,
            "_view_module_version": "1.5.0",
            "orientation": "horizontal",
            "min": 0,
            "description_tooltip": null,
            "_model_module": "@jupyter-widgets/controls",
            "layout": "IPY_MODEL_8fe9ea16051d4a0bba46e3328384572d"
          }
        },
        "91d5db151e444f9f865eda8ff7a4ffd2": {
          "model_module": "@jupyter-widgets/controls",
          "model_name": "HTMLModel",
          "state": {
            "_view_name": "HTMLView",
            "style": "IPY_MODEL_b6c1eb70256546f09ed94d1dbcdda065",
            "_dom_classes": [],
            "description": "",
            "_model_name": "HTMLModel",
            "placeholder": "​",
            "_view_module": "@jupyter-widgets/controls",
            "_model_module_version": "1.5.0",
            "value": " 1649664/? [00:48&lt;00:00, 34191.30it/s]",
            "_view_count": null,
            "_view_module_version": "1.5.0",
            "description_tooltip": null,
            "_model_module": "@jupyter-widgets/controls",
            "layout": "IPY_MODEL_147b614e544042a8a166d23927e46ce3"
          }
        },
        "22f895e1012d42cdb38a36eab0332a22": {
          "model_module": "@jupyter-widgets/controls",
          "model_name": "ProgressStyleModel",
          "state": {
            "_view_name": "StyleView",
            "_model_name": "ProgressStyleModel",
            "description_width": "initial",
            "_view_module": "@jupyter-widgets/base",
            "_model_module_version": "1.5.0",
            "_view_count": null,
            "_view_module_version": "1.2.0",
            "bar_color": null,
            "_model_module": "@jupyter-widgets/controls"
          }
        },
        "8fe9ea16051d4a0bba46e3328384572d": {
          "model_module": "@jupyter-widgets/base",
          "model_name": "LayoutModel",
          "state": {
            "_view_name": "LayoutView",
            "grid_template_rows": null,
            "right": null,
            "justify_content": null,
            "_view_module": "@jupyter-widgets/base",
            "overflow": null,
            "_model_module_version": "1.2.0",
            "_view_count": null,
            "flex_flow": null,
            "width": null,
            "min_width": null,
            "border": null,
            "align_items": null,
            "bottom": null,
            "_model_module": "@jupyter-widgets/base",
            "top": null,
            "grid_column": null,
            "overflow_y": null,
            "overflow_x": null,
            "grid_auto_flow": null,
            "grid_area": null,
            "grid_template_columns": null,
            "flex": null,
            "_model_name": "LayoutModel",
            "justify_items": null,
            "grid_row": null,
            "max_height": null,
            "align_content": null,
            "visibility": null,
            "align_self": null,
            "height": null,
            "min_height": null,
            "padding": null,
            "grid_auto_rows": null,
            "grid_gap": null,
            "max_width": null,
            "order": null,
            "_view_module_version": "1.2.0",
            "grid_template_areas": null,
            "object_position": null,
            "object_fit": null,
            "grid_auto_columns": null,
            "margin": null,
            "display": null,
            "left": null
          }
        },
        "b6c1eb70256546f09ed94d1dbcdda065": {
          "model_module": "@jupyter-widgets/controls",
          "model_name": "DescriptionStyleModel",
          "state": {
            "_view_name": "StyleView",
            "_model_name": "DescriptionStyleModel",
            "description_width": "",
            "_view_module": "@jupyter-widgets/base",
            "_model_module_version": "1.5.0",
            "_view_count": null,
            "_view_module_version": "1.2.0",
            "_model_module": "@jupyter-widgets/controls"
          }
        },
        "147b614e544042a8a166d23927e46ce3": {
          "model_module": "@jupyter-widgets/base",
          "model_name": "LayoutModel",
          "state": {
            "_view_name": "LayoutView",
            "grid_template_rows": null,
            "right": null,
            "justify_content": null,
            "_view_module": "@jupyter-widgets/base",
            "overflow": null,
            "_model_module_version": "1.2.0",
            "_view_count": null,
            "flex_flow": null,
            "width": null,
            "min_width": null,
            "border": null,
            "align_items": null,
            "bottom": null,
            "_model_module": "@jupyter-widgets/base",
            "top": null,
            "grid_column": null,
            "overflow_y": null,
            "overflow_x": null,
            "grid_auto_flow": null,
            "grid_area": null,
            "grid_template_columns": null,
            "flex": null,
            "_model_name": "LayoutModel",
            "justify_items": null,
            "grid_row": null,
            "max_height": null,
            "align_content": null,
            "visibility": null,
            "align_self": null,
            "height": null,
            "min_height": null,
            "padding": null,
            "grid_auto_rows": null,
            "grid_gap": null,
            "max_width": null,
            "order": null,
            "_view_module_version": "1.2.0",
            "grid_template_areas": null,
            "object_position": null,
            "object_fit": null,
            "grid_auto_columns": null,
            "margin": null,
            "display": null,
            "left": null
          }
        },
        "890374c1e02f40489322043e1e46b48e": {
          "model_module": "@jupyter-widgets/controls",
          "model_name": "HBoxModel",
          "state": {
            "_view_name": "HBoxView",
            "_dom_classes": [],
            "_model_name": "HBoxModel",
            "_view_module": "@jupyter-widgets/controls",
            "_model_module_version": "1.5.0",
            "_view_count": null,
            "_view_module_version": "1.5.0",
            "box_style": "",
            "layout": "IPY_MODEL_0f3d2ceacc0644ebb18bd62a4c10fd24",
            "_model_module": "@jupyter-widgets/controls",
            "children": [
              "IPY_MODEL_928ad0822f3e4f1b9ac029bb21a2503c",
              "IPY_MODEL_62ae7bde356a45398f31ac5eabd05ad4"
            ]
          }
        },
        "0f3d2ceacc0644ebb18bd62a4c10fd24": {
          "model_module": "@jupyter-widgets/base",
          "model_name": "LayoutModel",
          "state": {
            "_view_name": "LayoutView",
            "grid_template_rows": null,
            "right": null,
            "justify_content": null,
            "_view_module": "@jupyter-widgets/base",
            "overflow": null,
            "_model_module_version": "1.2.0",
            "_view_count": null,
            "flex_flow": null,
            "width": null,
            "min_width": null,
            "border": null,
            "align_items": null,
            "bottom": null,
            "_model_module": "@jupyter-widgets/base",
            "top": null,
            "grid_column": null,
            "overflow_y": null,
            "overflow_x": null,
            "grid_auto_flow": null,
            "grid_area": null,
            "grid_template_columns": null,
            "flex": null,
            "_model_name": "LayoutModel",
            "justify_items": null,
            "grid_row": null,
            "max_height": null,
            "align_content": null,
            "visibility": null,
            "align_self": null,
            "height": null,
            "min_height": null,
            "padding": null,
            "grid_auto_rows": null,
            "grid_gap": null,
            "max_width": null,
            "order": null,
            "_view_module_version": "1.2.0",
            "grid_template_areas": null,
            "object_position": null,
            "object_fit": null,
            "grid_auto_columns": null,
            "margin": null,
            "display": null,
            "left": null
          }
        },
        "928ad0822f3e4f1b9ac029bb21a2503c": {
          "model_module": "@jupyter-widgets/controls",
          "model_name": "FloatProgressModel",
          "state": {
            "_view_name": "ProgressView",
            "style": "IPY_MODEL_a3440d801d564169b60bcf0a0ff9c12f",
            "_dom_classes": [],
            "description": "",
            "_model_name": "FloatProgressModel",
            "bar_style": "success",
            "max": 4542,
            "_view_module": "@jupyter-widgets/controls",
            "_model_module_version": "1.5.0",
            "value": 4542,
            "_view_count": null,
            "_view_module_version": "1.5.0",
            "orientation": "horizontal",
            "min": 0,
            "description_tooltip": null,
            "_model_module": "@jupyter-widgets/controls",
            "layout": "IPY_MODEL_d608bfee09d346c99e28ea194ef9ea94"
          }
        },
        "62ae7bde356a45398f31ac5eabd05ad4": {
          "model_module": "@jupyter-widgets/controls",
          "model_name": "HTMLModel",
          "state": {
            "_view_name": "HTMLView",
            "style": "IPY_MODEL_d3c47036313d429e87d48c65cf738477",
            "_dom_classes": [],
            "description": "",
            "_model_name": "HTMLModel",
            "placeholder": "​",
            "_view_module": "@jupyter-widgets/controls",
            "_model_module_version": "1.5.0",
            "value": " 5120/? [00:19&lt;00:00, 265.35it/s]",
            "_view_count": null,
            "_view_module_version": "1.5.0",
            "description_tooltip": null,
            "_model_module": "@jupyter-widgets/controls",
            "layout": "IPY_MODEL_8f17f4ca82dd4ca988b0545cd5aadf8f"
          }
        },
        "a3440d801d564169b60bcf0a0ff9c12f": {
          "model_module": "@jupyter-widgets/controls",
          "model_name": "ProgressStyleModel",
          "state": {
            "_view_name": "StyleView",
            "_model_name": "ProgressStyleModel",
            "description_width": "initial",
            "_view_module": "@jupyter-widgets/base",
            "_model_module_version": "1.5.0",
            "_view_count": null,
            "_view_module_version": "1.2.0",
            "bar_color": null,
            "_model_module": "@jupyter-widgets/controls"
          }
        },
        "d608bfee09d346c99e28ea194ef9ea94": {
          "model_module": "@jupyter-widgets/base",
          "model_name": "LayoutModel",
          "state": {
            "_view_name": "LayoutView",
            "grid_template_rows": null,
            "right": null,
            "justify_content": null,
            "_view_module": "@jupyter-widgets/base",
            "overflow": null,
            "_model_module_version": "1.2.0",
            "_view_count": null,
            "flex_flow": null,
            "width": null,
            "min_width": null,
            "border": null,
            "align_items": null,
            "bottom": null,
            "_model_module": "@jupyter-widgets/base",
            "top": null,
            "grid_column": null,
            "overflow_y": null,
            "overflow_x": null,
            "grid_auto_flow": null,
            "grid_area": null,
            "grid_template_columns": null,
            "flex": null,
            "_model_name": "LayoutModel",
            "justify_items": null,
            "grid_row": null,
            "max_height": null,
            "align_content": null,
            "visibility": null,
            "align_self": null,
            "height": null,
            "min_height": null,
            "padding": null,
            "grid_auto_rows": null,
            "grid_gap": null,
            "max_width": null,
            "order": null,
            "_view_module_version": "1.2.0",
            "grid_template_areas": null,
            "object_position": null,
            "object_fit": null,
            "grid_auto_columns": null,
            "margin": null,
            "display": null,
            "left": null
          }
        },
        "d3c47036313d429e87d48c65cf738477": {
          "model_module": "@jupyter-widgets/controls",
          "model_name": "DescriptionStyleModel",
          "state": {
            "_view_name": "StyleView",
            "_model_name": "DescriptionStyleModel",
            "description_width": "",
            "_view_module": "@jupyter-widgets/base",
            "_model_module_version": "1.5.0",
            "_view_count": null,
            "_view_module_version": "1.2.0",
            "_model_module": "@jupyter-widgets/controls"
          }
        },
        "8f17f4ca82dd4ca988b0545cd5aadf8f": {
          "model_module": "@jupyter-widgets/base",
          "model_name": "LayoutModel",
          "state": {
            "_view_name": "LayoutView",
            "grid_template_rows": null,
            "right": null,
            "justify_content": null,
            "_view_module": "@jupyter-widgets/base",
            "overflow": null,
            "_model_module_version": "1.2.0",
            "_view_count": null,
            "flex_flow": null,
            "width": null,
            "min_width": null,
            "border": null,
            "align_items": null,
            "bottom": null,
            "_model_module": "@jupyter-widgets/base",
            "top": null,
            "grid_column": null,
            "overflow_y": null,
            "overflow_x": null,
            "grid_auto_flow": null,
            "grid_area": null,
            "grid_template_columns": null,
            "flex": null,
            "_model_name": "LayoutModel",
            "justify_items": null,
            "grid_row": null,
            "max_height": null,
            "align_content": null,
            "visibility": null,
            "align_self": null,
            "height": null,
            "min_height": null,
            "padding": null,
            "grid_auto_rows": null,
            "grid_gap": null,
            "max_width": null,
            "order": null,
            "_view_module_version": "1.2.0",
            "grid_template_areas": null,
            "object_position": null,
            "object_fit": null,
            "grid_auto_columns": null,
            "margin": null,
            "display": null,
            "left": null
          }
        }
      }
    }
  },
  "cells": [
    {
      "cell_type": "code",
      "metadata": {
        "id": "9dgopxbpPTWg"
      },
      "source": [
        "import torch\n",
        "from torch.utils.data import Dataset, DataLoader\n",
        "\n",
        "from torchvision import datasets\n",
        "from torchvision.transforms import ToTensor\n",
        "\n",
        "import torch.nn as nn\n",
        "import torch.nn.functional as F\n",
        "\n",
        "import torch.optim as optim\n",
        "\n",
        "import matplotlib.pyplot as plt #for plotting"
      ],
      "execution_count": 13,
      "outputs": []
    },
    {
      "cell_type": "code",
      "metadata": {
        "colab": {
          "base_uri": "https://localhost:8080/",
          "height": 36
        },
        "id": "XkoNbd_QQosL",
        "outputId": "095fbd18-2378-4d1e-eed9-7f51ef623811"
      },
      "source": [
        "# using cuda enabled GPU  if available\n",
        "device = \"cuda\" if torch.cuda.is_available() else \"cpu\"\n",
        "device"
      ],
      "execution_count": 14,
      "outputs": [
        {
          "output_type": "execute_result",
          "data": {
            "application/vnd.google.colaboratory.intrinsic+json": {
              "type": "string"
            },
            "text/plain": [
              "'cuda'"
            ]
          },
          "metadata": {
            "tags": []
          },
          "execution_count": 14
        }
      ]
    },
    {
      "cell_type": "markdown",
      "metadata": {
        "id": "p6X0KGrXN27g"
      },
      "source": [
        "## Preparing/Creating Dataset"
      ]
    },
    {
      "cell_type": "code",
      "metadata": {
        "id": "zOGZKNCfPavh",
        "colab": {
          "base_uri": "https://localhost:8080/",
          "height": 614,
          "referenced_widgets": [
            "98fb7ec69511473ea57f5c24295e85e6",
            "2bdd6702c15345fbaa3769fd9411a028",
            "39dee4e953934c4d9a6a64c8bb2e4755",
            "c4134fcc03e848c0b3d8f9d2c52a212d",
            "5b34914b9cf240f39bbbb79514799871",
            "d6d5637ab4e944e8954782d7fb21b305",
            "84ee00f8fd474d5fb84e5a7a58e52be0",
            "88e5280b62e14cc8b0766336aa7df75f",
            "9665b1bca67e45d8b4d6dc34b5d3b88e",
            "a06f9ad10e544c75a19fff57dee4983c",
            "d15a0ebf1e8e4bd98fa3308674c87a23",
            "e3287a674772417fa115b36d13e183bc",
            "e5e6a6ac9530416d9b26d269896a722a",
            "3d4f221e0c354e629980075d6e0eaf54",
            "9eda2c03f6ea4df6840a0afc732da1d0",
            "c0eaee9c9c254b4bb99e1931afb42d4f",
            "7513fe4057b24bdfaafc1cc5c53dfe15",
            "468119aaa6464c999828a8732e74c384",
            "0cc664494bd5425b9026ad588a4d6dd2",
            "91d5db151e444f9f865eda8ff7a4ffd2",
            "22f895e1012d42cdb38a36eab0332a22",
            "8fe9ea16051d4a0bba46e3328384572d",
            "b6c1eb70256546f09ed94d1dbcdda065",
            "147b614e544042a8a166d23927e46ce3",
            "890374c1e02f40489322043e1e46b48e",
            "0f3d2ceacc0644ebb18bd62a4c10fd24",
            "928ad0822f3e4f1b9ac029bb21a2503c",
            "62ae7bde356a45398f31ac5eabd05ad4",
            "a3440d801d564169b60bcf0a0ff9c12f",
            "d608bfee09d346c99e28ea194ef9ea94",
            "d3c47036313d429e87d48c65cf738477",
            "8f17f4ca82dd4ca988b0545cd5aadf8f"
          ]
        },
        "outputId": "4ad7fa94-1760-492b-8471-256250a34bb1"
      },
      "source": [
        "# downloading/loading MNIST train dataset\n",
        "mnist_train_data = datasets.MNIST(\n",
        "    root=\"data\",\n",
        "    train=True,\n",
        "    download=True,\n",
        "    transform=ToTensor()\n",
        ")"
      ],
      "execution_count": 15,
      "outputs": [
        {
          "output_type": "stream",
          "text": [
            "Downloading http://yann.lecun.com/exdb/mnist/train-images-idx3-ubyte.gz\n",
            "Downloading http://yann.lecun.com/exdb/mnist/train-images-idx3-ubyte.gz to data/MNIST/raw/train-images-idx3-ubyte.gz\n"
          ],
          "name": "stdout"
        },
        {
          "output_type": "display_data",
          "data": {
            "application/vnd.jupyter.widget-view+json": {
              "model_id": "98fb7ec69511473ea57f5c24295e85e6",
              "version_minor": 0,
              "version_major": 2
            },
            "text/plain": [
              "HBox(children=(FloatProgress(value=0.0, max=9912422.0), HTML(value='')))"
            ]
          },
          "metadata": {
            "tags": []
          }
        },
        {
          "output_type": "stream",
          "text": [
            "\n",
            "Extracting data/MNIST/raw/train-images-idx3-ubyte.gz to data/MNIST/raw\n",
            "\n",
            "Downloading http://yann.lecun.com/exdb/mnist/train-labels-idx1-ubyte.gz\n",
            "Downloading http://yann.lecun.com/exdb/mnist/train-labels-idx1-ubyte.gz to data/MNIST/raw/train-labels-idx1-ubyte.gz\n"
          ],
          "name": "stdout"
        },
        {
          "output_type": "display_data",
          "data": {
            "application/vnd.jupyter.widget-view+json": {
              "model_id": "9665b1bca67e45d8b4d6dc34b5d3b88e",
              "version_minor": 0,
              "version_major": 2
            },
            "text/plain": [
              "HBox(children=(FloatProgress(value=0.0, max=28881.0), HTML(value='')))"
            ]
          },
          "metadata": {
            "tags": []
          }
        },
        {
          "output_type": "stream",
          "text": [
            "\n",
            "Extracting data/MNIST/raw/train-labels-idx1-ubyte.gz to data/MNIST/raw\n",
            "\n",
            "Downloading http://yann.lecun.com/exdb/mnist/t10k-images-idx3-ubyte.gz\n",
            "Downloading http://yann.lecun.com/exdb/mnist/t10k-images-idx3-ubyte.gz to data/MNIST/raw/t10k-images-idx3-ubyte.gz\n"
          ],
          "name": "stdout"
        },
        {
          "output_type": "display_data",
          "data": {
            "application/vnd.jupyter.widget-view+json": {
              "model_id": "7513fe4057b24bdfaafc1cc5c53dfe15",
              "version_minor": 0,
              "version_major": 2
            },
            "text/plain": [
              "HBox(children=(FloatProgress(value=0.0, max=1648877.0), HTML(value='')))"
            ]
          },
          "metadata": {
            "tags": []
          }
        },
        {
          "output_type": "stream",
          "text": [
            "\n",
            "Extracting data/MNIST/raw/t10k-images-idx3-ubyte.gz to data/MNIST/raw\n",
            "\n",
            "Downloading http://yann.lecun.com/exdb/mnist/t10k-labels-idx1-ubyte.gz\n",
            "Downloading http://yann.lecun.com/exdb/mnist/t10k-labels-idx1-ubyte.gz to data/MNIST/raw/t10k-labels-idx1-ubyte.gz\n"
          ],
          "name": "stdout"
        },
        {
          "output_type": "display_data",
          "data": {
            "application/vnd.jupyter.widget-view+json": {
              "model_id": "890374c1e02f40489322043e1e46b48e",
              "version_minor": 0,
              "version_major": 2
            },
            "text/plain": [
              "HBox(children=(FloatProgress(value=0.0, max=4542.0), HTML(value='')))"
            ]
          },
          "metadata": {
            "tags": []
          }
        },
        {
          "output_type": "stream",
          "text": [
            "\n",
            "Extracting data/MNIST/raw/t10k-labels-idx1-ubyte.gz to data/MNIST/raw\n",
            "\n",
            "Processing...\n",
            "Done!\n"
          ],
          "name": "stdout"
        },
        {
          "output_type": "stream",
          "text": [
            "/usr/local/lib/python3.7/dist-packages/torchvision/datasets/mnist.py:502: UserWarning: The given NumPy array is not writeable, and PyTorch does not support non-writeable tensors. This means you can write to the underlying (supposedly non-writeable) NumPy array using the tensor. You may want to copy the array to protect its data or make it writeable before converting it to a tensor. This type of warning will be suppressed for the rest of this program. (Triggered internally at  /pytorch/torch/csrc/utils/tensor_numpy.cpp:143.)\n",
            "  return torch.from_numpy(parsed.astype(m[2], copy=False)).view(*s)\n"
          ],
          "name": "stderr"
        }
      ]
    },
    {
      "cell_type": "code",
      "metadata": {
        "colab": {
          "base_uri": "https://localhost:8080/"
        },
        "id": "YvyZphrbQGzL",
        "outputId": "09685baa-3918-4da8-9b0b-d919da86d44d"
      },
      "source": [
        "print(\"Total number of Images in Dataset\",len(mnist_train_data))"
      ],
      "execution_count": 16,
      "outputs": [
        {
          "output_type": "stream",
          "text": [
            "Total number of Images in Dataset 60000\n"
          ],
          "name": "stdout"
        }
      ]
    },
    {
      "cell_type": "code",
      "metadata": {
        "colab": {
          "base_uri": "https://localhost:8080/",
          "height": 482
        },
        "id": "Oz2av2I9Pu99",
        "outputId": "4fb71189-1abb-4674-d665-277a1b91d480"
      },
      "source": [
        "# plotting sample of dataset\n",
        "figure = plt.figure(figsize=(8, 8))\n",
        "cols, rows = 3, 3\n",
        "#randomly selecting index from dataset\n",
        "rand_idx = torch.randint(len(mnist_train_data), size=(cols*rows,))\n",
        "for i, idx in enumerate(rand_idx):\n",
        "  #unpacking data set for img and label\n",
        "  img, label = mnist_train_data[idx.item()]\n",
        "  figure.add_subplot(rows, cols, i+1)\n",
        "  plt.title(label)\n",
        "  plt.axis(\"off\")\n",
        "  plt.imshow(img.squeeze(), cmap=\"gray\")\n",
        "plt.show()"
      ],
      "execution_count": 17,
      "outputs": [
        {
          "output_type": "display_data",
          "data": {
            "image/png": "[encoded data removed]",
            "text/plain": [
              "<Figure size 576x576 with 9 Axes>"
            ]
          },
          "metadata": {
            "tags": [],
            "needs_background": "light"
          }
        }
      ]
    },
    {
      "cell_type": "code",
      "metadata": {
        "id": "jM86e6t-N0Oh"
      },
      "source": [
        "# creating a custom data set for loading image and radom number\n",
        "class CustomDataSet(Dataset):\n",
        "  def __init__(self, mnist_dataset):\n",
        "    self.mnist = mnist_dataset\n",
        "    self.numbers = torch.randint(10, size=(len(self),))\n",
        "\n",
        "  def __getitem__(self, index):\n",
        "    #unpack img and label from mnist\n",
        "    img, label = self.mnist[index]\n",
        "    #get number from random number tensor\n",
        "    number = self.numbers[index]\n",
        "    #one hot encoding number\n",
        "    num_onehot = F.one_hot(number, num_classes = 10).squeeze().float()\n",
        "    #dictionary with input and target\n",
        "    return {'input': [img.to(device), num_onehot.to(device)], 'target':[label, label + number.item()]}\n",
        "\n",
        "  def __len__(self):\n",
        "    return len(self.mnist)"
      ],
      "execution_count": 18,
      "outputs": []
    },
    {
      "cell_type": "code",
      "metadata": {
        "id": "cLS_hXu3WCYs"
      },
      "source": [
        "#instantiating dataset\n",
        "dataset = CustomDataSet(mnist_train_data)\n",
        "#instantiating data loader with batch size 10\n",
        "data_loader = DataLoader(dataset, batch_size=10, shuffle=True)"
      ],
      "execution_count": 19,
      "outputs": []
    },
    {
      "cell_type": "code",
      "metadata": {
        "id": "QgvQ5ZjwVu5z",
        "colab": {
          "base_uri": "https://localhost:8080/"
        },
        "outputId": "28c2c535-df45-4789-9d4a-778b0550544a"
      },
      "source": [
        "#get batch from data leader\n",
        "batch = next(iter(data_loader))\n",
        "inputs, targets = batch['input'], batch['target']\n",
        "print(\"Image batch {0}, One-hot encoded Number {1}\\n\\\n",
        "Handwritten digit label {2}, Sum of number and digit {3}\".format(inputs[0].shape, inputs[1].shape, targets[0].shape, targets[1].shape))"
      ],
      "execution_count": 20,
      "outputs": [
        {
          "output_type": "stream",
          "text": [
            "Image batch torch.Size([10, 1, 28, 28]), One-hot encoded Number torch.Size([10, 10])\n",
            "Handwritten digit label torch.Size([10]), Sum of number and digit torch.Size([10])\n"
          ],
          "name": "stdout"
        }
      ]
    },
    {
      "cell_type": "markdown",
      "metadata": {
        "id": "jHwbbg6nNrT-"
      },
      "source": [
        "## Building Neural Network"
      ]
    },
    {
      "cell_type": "markdown",
      "metadata": {
        "id": "ZmmkNuHYbBao"
      },
      "source": [
        "![Network Architecture](https://raw.githubusercontent.com/chaitanya-vanapamala/pytorch_mnist_multi_label/main/netowrk%20architecture.png)"
      ]
    },
    {
      "cell_type": "markdown",
      "metadata": {
        "id": "3meeBvVackGo"
      },
      "source": [
        "Let's Implement the network shown above using Pytorch."
      ]
    },
    {
      "cell_type": "code",
      "metadata": {
        "id": "XoPknIE3ZtFU"
      },
      "source": [
        "class Network(nn.Module):\n",
        "    def __init__(self):\n",
        "        super().__init__()\n",
        "        #CNN block\n",
        "        self.conv1 = nn.Conv2d(in_channels=1, out_channels=6, kernel_size=5)\n",
        "        self.conv2 = nn.Conv2d(in_channels=6, out_channels=12, kernel_size=5)\n",
        "\n",
        "        #Random number block\n",
        "        self.fc1 = nn.Linear(10, 64)\n",
        "\n",
        "        #concated fc1 and flatten conv2\n",
        "        self.fc2 = nn.Linear(in_features=12*4*4 + 64, out_features=128)\n",
        "        self.fc3 = nn.Linear(in_features=128, out_features=64)\n",
        "\n",
        "        #output layers\n",
        "        self.out1 = nn.Linear(in_features=64, out_features=10)\n",
        "        self.out2 = nn.Linear(in_features=64, out_features=19)\n",
        "\n",
        "    def forward(self, t):\n",
        "      #unpacking image and numbers\n",
        "      images, numbers  = t\n",
        "      \n",
        "      # 1st Conv layer and MaxPool\n",
        "      t1 = self.conv1(images)\n",
        "      t1 = F.relu(t1)\n",
        "      t1 = F.max_pool2d(t1, kernel_size=2, stride=2)\n",
        "\n",
        "      # 2nd Conv layer and MaxPool\n",
        "      t1 = self.conv2(t1)\n",
        "      t1 = F.relu(t1)\n",
        "      t1 = F.max_pool2d(t1, kernel_size=2, stride=2)\n",
        "\n",
        "      # Flattening the conv output\n",
        "      t1 = t1.reshape(-1, 12 * 4 * 4)\n",
        "\n",
        "      # sending random number to FC1\n",
        "      t2 = self.fc1(numbers)\n",
        "      t2 = F.relu(t2)\n",
        "\n",
        "      # concatination of t1 and t2\n",
        "      t = torch.cat((t1, t2), 1)\n",
        "\n",
        "      # Propagating concatinated tensor to fully connected layers\n",
        "      t = self.fc2(t)\n",
        "      t = F.relu(t)\n",
        "\n",
        "      t = self.fc3(t)\n",
        "      t = F.relu(t)\n",
        "\n",
        "      # Out1 Image Digit Prediction\n",
        "      o1 = self.out1(t)\n",
        "      o1 = F.softmax(o1, dim=1)\n",
        "\n",
        "      # Out2 Sum prediction\n",
        "      o2 = self.out2(t)\n",
        "      o2 = F.softmax(o2, dim=1)\n",
        "\n",
        "      return o1, o2\n"
      ],
      "execution_count": 21,
      "outputs": []
    },
    {
      "cell_type": "code",
      "metadata": {
        "colab": {
          "base_uri": "https://localhost:8080/"
        },
        "id": "Yvfy_htCXsnd",
        "outputId": "5cb77c5d-8c0d-468f-de31-ba021b622e37"
      },
      "source": [
        "#Let's see the network layers\n",
        "network = Network()\n",
        "print(network)"
      ],
      "execution_count": 22,
      "outputs": [
        {
          "output_type": "stream",
          "text": [
            "Network(\n",
            "  (conv1): Conv2d(1, 6, kernel_size=(5, 5), stride=(1, 1))\n",
            "  (conv2): Conv2d(6, 12, kernel_size=(5, 5), stride=(1, 1))\n",
            "  (fc1): Linear(in_features=10, out_features=64, bias=True)\n",
            "  (fc2): Linear(in_features=256, out_features=128, bias=True)\n",
            "  (fc3): Linear(in_features=128, out_features=64, bias=True)\n",
            "  (out1): Linear(in_features=64, out_features=10, bias=True)\n",
            "  (out2): Linear(in_features=64, out_features=19, bias=True)\n",
            ")\n"
          ],
          "name": "stdout"
        }
      ]
    },
    {
      "cell_type": "code",
      "metadata": {
        "colab": {
          "base_uri": "https://localhost:8080/"
        },
        "id": "kJ8B0wepbd-T",
        "outputId": "04d54234-185d-4054-eb96-435713e978b4"
      },
      "source": [
        "print(\"Total Trainable Parameters:\", sum(p.numel() for p in network.parameters() if p.requires_grad))"
      ],
      "execution_count": 23,
      "outputs": [
        {
          "output_type": "stream",
          "text": [
            "Total Trainable Parameters: 45709\n"
          ],
          "name": "stdout"
        }
      ]
    },
    {
      "cell_type": "markdown",
      "metadata": {
        "id": "wqXmSneoe6r-"
      },
      "source": [
        "## Loss Function"
      ]
    },
    {
      "cell_type": "code",
      "metadata": {
        "id": "3OainWX25tT9"
      },
      "source": [
        "#computing loss function for two softmax outputs\n",
        "def loss_function(outputs, t1, t2):\n",
        "  #unpacking outputs\n",
        "  o1, o2 = outputs\n",
        "  #computing cross entropy loss\n",
        "  l1 = nn.CrossEntropyLoss()(o1, t1)\n",
        "  l2 = nn.CrossEntropyLoss()(o2, t2)\n",
        "\n",
        "  #computing average loss\n",
        "  return (l1+l2)/2"
      ],
      "execution_count": 24,
      "outputs": []
    },
    {
      "cell_type": "code",
      "metadata": {
        "id": "1ENOSaSGI8iZ"
      },
      "source": [
        "# correct predictions count\n",
        "def right_predictions(outputs, t1, t2):\n",
        "  digits = outputs[0].argmax(1).eq(t1).sum().item()\n",
        "  sums = outputs[1].argmax(1).eq(t2).sum().item()\n",
        "  return digits, sums"
      ],
      "execution_count": 25,
      "outputs": []
    },
    {
      "cell_type": "markdown",
      "metadata": {
        "id": "tQbY2ixBfCTO"
      },
      "source": [
        "## Training Loop"
      ]
    },
    {
      "cell_type": "code",
      "metadata": {
        "colab": {
          "base_uri": "https://localhost:8080/"
        },
        "id": "ILjnZByAFz3H",
        "outputId": "7c91b981-ff0b-47ec-b7e5-87d17df50970"
      },
      "source": [
        "#initalising data loader\n",
        "train_dataset = CustomDataSet(mnist_train_data)\n",
        "train_data_loader = DataLoader(train_dataset, batch_size=64, shuffle=True)\n",
        "\n",
        "#initialising network and assigning to GPU\n",
        "network = Network()\n",
        "network.to(device)\n",
        "optimizer = optim.Adam(params = network.parameters(), lr=0.001)\n",
        "\n",
        "#loss in each epoch\n",
        "train_loss = []\n",
        "\n",
        "for epoch in range(1, 51):\n",
        "  total_loss = 0\n",
        "  total_correct_digits = 0\n",
        "  total_correct_sum = 0\n",
        "  train_steps = 0\n",
        "  for batch in train_data_loader:\n",
        "    train_steps += 1\n",
        "    inputs, targets = batch['input'], batch['target']\n",
        "    t1, t2 = targets[0].to(device), targets[1].to(device)\n",
        "    preds = network(inputs)\n",
        "    loss = loss_function(preds, t1, t2)\n",
        "\n",
        "    optimizer.zero_grad()\n",
        "\n",
        "    loss.backward()\n",
        "    optimizer.step()\n",
        "\n",
        "    total_loss += loss.item()\n",
        "    right_pred = right_predictions(preds, t1, t2)\n",
        "    total_correct_digits += right_pred[0]\n",
        "    total_correct_sum += right_pred[1]\n",
        "\n",
        "  train_loss.append(total_loss/train_steps)\n",
        "  print(\"epoch {0} => loss {1}, total correct digits {2}, total correct sums {3}\".format(epoch, total_loss/train_steps, total_correct_digits, total_correct_sum))"
      ],
      "execution_count": 26,
      "outputs": [
        {
          "output_type": "stream",
          "text": [
            "epoch 1 => loss 2.295954925419171, total correct digits 46474, total correct sums 7400\n",
            "epoch 2 => loss 2.1124475214527108, total correct digits 56388, total correct sums 20228\n",
            "epoch 3 => loss 2.066591584860389, total correct digits 57842, total correct sums 23808\n",
            "epoch 4 => loss 2.0407544788775414, total correct digits 58205, total correct sums 26450\n",
            "epoch 5 => loss 2.0309157747703828, total correct digits 58422, total correct sums 27340\n",
            "epoch 6 => loss 2.0055850537092703, total correct digits 58577, total correct sums 30263\n",
            "epoch 7 => loss 1.9991911250645165, total correct digits 58753, total correct sums 30783\n",
            "epoch 8 => loss 1.992365299511566, total correct digits 58919, total correct sums 31403\n",
            "epoch 9 => loss 1.9731381881211612, total correct digits 58992, total correct sums 33669\n",
            "epoch 10 => loss 1.9666050012940284, total correct digits 59043, total correct sums 34369\n",
            "epoch 11 => loss 1.963268716706396, total correct digits 59170, total correct sums 34596\n",
            "epoch 12 => loss 1.96279794549637, total correct digits 59184, total correct sums 34640\n",
            "epoch 13 => loss 1.961249409581044, total correct digits 59259, total correct sums 34706\n",
            "epoch 14 => loss 1.9609559346109564, total correct digits 59283, total correct sums 34720\n",
            "epoch 15 => loss 1.9596776246770358, total correct digits 59357, total correct sums 34750\n",
            "epoch 16 => loss 1.9545807643994084, total correct digits 59346, total correct sums 35404\n",
            "epoch 17 => loss 1.9532081311953855, total correct digits 59437, total correct sums 35440\n",
            "epoch 18 => loss 1.9533594778097514, total correct digits 59419, total correct sums 35433\n",
            "epoch 19 => loss 1.9486780531370818, total correct digits 59453, total correct sums 35979\n",
            "epoch 20 => loss 1.9476978532286848, total correct digits 59472, total correct sums 36028\n",
            "epoch 21 => loss 1.9402857622358083, total correct digits 59553, total correct sums 36856\n",
            "epoch 22 => loss 1.932133063832834, total correct digits 59513, total correct sums 37902\n",
            "epoch 23 => loss 1.9313117765160257, total correct digits 59572, total correct sums 37910\n",
            "epoch 24 => loss 1.9313050730904537, total correct digits 59550, total correct sums 37917\n",
            "epoch 25 => loss 1.93097516684644, total correct digits 59575, total correct sums 37930\n",
            "epoch 26 => loss 1.930754750522215, total correct digits 59582, total correct sums 37927\n",
            "epoch 27 => loss 1.9301708457566529, total correct digits 59606, total correct sums 37955\n",
            "epoch 28 => loss 1.930209978811268, total correct digits 59620, total correct sums 37942\n",
            "epoch 29 => loss 1.930420596462323, total correct digits 59586, total correct sums 37948\n",
            "epoch 30 => loss 1.9294542871050235, total correct digits 59656, total correct sums 37974\n",
            "epoch 31 => loss 1.9296242481609907, total correct digits 59638, total correct sums 37966\n",
            "epoch 32 => loss 1.9293464325638467, total correct digits 59668, total correct sums 37962\n",
            "epoch 33 => loss 1.9290489597615403, total correct digits 59672, total correct sums 37989\n",
            "epoch 34 => loss 1.9253266940493066, total correct digits 59669, total correct sums 38454\n",
            "epoch 35 => loss 1.9099838393075126, total correct digits 59696, total correct sums 40326\n",
            "epoch 36 => loss 1.90515206528625, total correct digits 59699, total correct sums 40879\n",
            "epoch 37 => loss 1.9013555626879368, total correct digits 59740, total correct sums 41310\n",
            "epoch 38 => loss 1.899399248267542, total correct digits 59702, total correct sums 41584\n",
            "epoch 39 => loss 1.8943451509546878, total correct digits 59740, total correct sums 42144\n",
            "epoch 40 => loss 1.8905970347461416, total correct digits 59735, total correct sums 42616\n",
            "epoch 41 => loss 1.8895962186205362, total correct digits 59747, total correct sums 42706\n",
            "epoch 42 => loss 1.8852270541668954, total correct digits 59744, total correct sums 43254\n",
            "epoch 43 => loss 1.8850327896665153, total correct digits 59744, total correct sums 43264\n",
            "epoch 44 => loss 1.8812313265383624, total correct digits 59748, total correct sums 43739\n",
            "epoch 45 => loss 1.8786482028107145, total correct digits 59761, total correct sums 44013\n",
            "epoch 46 => loss 1.871583554409206, total correct digits 59775, total correct sums 44881\n",
            "epoch 47 => loss 1.8699537171229625, total correct digits 59776, total correct sums 45089\n",
            "epoch 48 => loss 1.869526748845318, total correct digits 59790, total correct sums 45098\n",
            "epoch 49 => loss 1.8679544925689697, total correct digits 59767, total correct sums 45331\n",
            "epoch 50 => loss 1.864952938261825, total correct digits 59789, total correct sums 45654\n"
          ],
          "name": "stdout"
        }
      ]
    },
    {
      "cell_type": "code",
      "metadata": {
        "id": "Kwt_lUQNbUYt",
        "colab": {
          "base_uri": "https://localhost:8080/",
          "height": 295
        },
        "outputId": "4a819f1d-bfa1-4889-fe29-bfd7f6471a05"
      },
      "source": [
        "# let's plot the loss vs epoch\n",
        "plt.plot(train_loss)\n",
        "plt.xlabel(\"Loss\")\n",
        "plt.ylabel(\"Epochs\")\n",
        "plt.title(\"Training Loss\")\n",
        "plt.show()"
      ],
      "execution_count": 28,
      "outputs": [
        {
          "output_type": "display_data",
          "data": {
            "image/png": "[encoded data removed]",
            "text/plain": [
              "<Figure size 432x288 with 1 Axes>"
            ]
          },
          "metadata": {
            "tags": [],
            "needs_background": "light"
          }
        }
      ]
    },
    {
      "cell_type": "markdown",
      "metadata": {
        "id": "hGUxFQnwi8QW"
      },
      "source": [
        "As we can see from the above graph our model is able to learn from the data and reducing the loss as number of epochs are increasing."
      ]
    },
    {
      "cell_type": "markdown",
      "metadata": {
        "id": "G8fkYTzxjRqM"
      },
      "source": [
        "## Prediction on Test Data"
      ]
    },
    {
      "cell_type": "code",
      "metadata": {
        "id": "L0eTPQG7ipw8"
      },
      "source": [
        "#creating test data set\n",
        "mnist_test_data = datasets.MNIST(\n",
        "    root=\"data\",\n",
        "    train=False,\n",
        "    download=True,\n",
        "    transform=ToTensor()\n",
        ")\n",
        "test_dataset = CustomDataSet(mnist_test_data)\n",
        "test_data_loader = DataLoader(test_dataset, batch_size=64, shuffle=True)"
      ],
      "execution_count": 29,
      "outputs": []
    },
    {
      "cell_type": "code",
      "metadata": {
        "colab": {
          "base_uri": "https://localhost:8080/"
        },
        "id": "lBAUQ8Xjjqhd",
        "outputId": "45d65473-83a1-48bb-cba5-5e38da8d0dbd"
      },
      "source": [
        "total_correct_digits = 0\n",
        "total_correct_sum = 0\n",
        "for batch in test_data_loader:\n",
        "  inputs, targets = batch['input'], batch['target']\n",
        "  t1, t2 = targets[0].to(device), targets[1].to(device)\n",
        "  preds = network(inputs)\n",
        "\n",
        "  right_pred = right_predictions(preds, t1, t2)\n",
        "  total_correct_digits += right_pred[0]\n",
        "  total_correct_sum += right_pred[1]\n",
        "\n",
        "print(\"Accuracy : Digit Recognition : {0}, Sum : {1}\".format(total_correct_digits*100/len(test_dataset), total_correct_sum*100/len(test_dataset)))"
      ],
      "execution_count": 32,
      "outputs": [
        {
          "output_type": "stream",
          "text": [
            "Accuracy : Digit Recognition : 98.84, Sum : 75.25\n"
          ],
          "name": "stdout"
        }
      ]
    },
    {
      "cell_type": "markdown",
      "metadata": {
        "id": "wzWtqhzkk6di"
      },
      "source": [
        "While the the labels of Images are recognized with high accuracy i.e., more then 98% on both test and train datasets, The sum of random and recognised label is only around 75% for both test and train dataset. "
      ]
    },
    {
      "cell_type": "code",
      "metadata": {
        "id": "5MT9xcCCkS9-"
      },
      "source": [
        ""
      ],
      "execution_count": 32,
      "outputs": []
    }
  ]
}